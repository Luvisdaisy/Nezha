{
 "cells": [
  {
   "cell_type": "markdown",
   "metadata": {},
   "source": [
    "导入库"
   ]
  },
  {
   "cell_type": "code",
   "execution_count": 2,
   "metadata": {},
   "outputs": [],
   "source": [
    "import pandas as pd\n",
    "import numpy as np\n",
    "import matplotlib.pyplot as plt\n",
    "import seaborn as sns\n",
    "import csv\n",
    "import re\n",
    "import jieba\n",
    "import wordcloud\n"
   ]
  },
  {
   "cell_type": "code",
   "execution_count": 3,
   "metadata": {},
   "outputs": [],
   "source": [
    "pd.options.display.colheader_justify = 'left'"
   ]
  },
  {
   "cell_type": "code",
   "execution_count": 4,
   "metadata": {},
   "outputs": [],
   "source": [
    "def clean_text(text: str, stopwords: list) -> str:\n",
    "    \"\"\"\n",
    "    清洗文本，去除停用词、空行、多余空格和 URL。\n",
    "    \n",
    "    :param text: 需要清洗的文本\n",
    "    :param stopwords: 停用词列表\n",
    "    :return: 清洗后的文本\n",
    "    \"\"\"\n",
    "    # 分词\n",
    "    seg_list = jieba.cut(text)\n",
    "    \n",
    "    text = ' '.join(seg_list)\n",
    "    # 去除URL\n",
    "    text = re.sub(r'http[s]?://\\S+', '', text)\n",
    "    \n",
    "    # 去除多余空格\n",
    "    text = re.sub(r'\\s+', ' ', text).strip()\n",
    "    \n",
    "    # 按行分割，去除空行\n",
    "    lines = [line.strip() for line in text.split('\\n') if line.strip()]\n",
    "    \n",
    "    # 去除停用词\n",
    "    clean_lines = []\n",
    "    for line in lines:\n",
    "        words = line.split()\n",
    "        filtered_words = [word for word in words if word not in stopwords]\n",
    "        clean_lines.append(' '.join(filtered_words))\n",
    "    \n",
    "    return '\\n'.join(clean_lines)"
   ]
  },
  {
   "cell_type": "markdown",
   "metadata": {},
   "source": [
    "导入数据"
   ]
  },
  {
   "cell_type": "code",
   "execution_count": 5,
   "metadata": {},
   "outputs": [
    {
     "name": "stdout",
     "output_type": "stream",
     "text": [
      "<class 'pandas.core.frame.DataFrame'>\n",
      "RangeIndex: 2811 entries, 0 to 2810\n",
      "Data columns (total 5 columns):\n",
      " #   Column    Non-Null Count  Dtype  \n",
      "---  ------    --------------  -----  \n",
      " 0   title     2811 non-null   object \n",
      " 1   rating    2811 non-null   float64\n",
      " 2   upvote    2811 non-null   int64  \n",
      " 3   downvote  2811 non-null   int64  \n",
      " 4   review    2811 non-null   object \n",
      "dtypes: float64(1), int64(2), object(2)\n",
      "memory usage: 109.9+ KB\n"
     ]
    }
   ],
   "source": [
    "data = pd.read_csv(\"douban_reviews.csv\", encoding=\"utf-8\")\n",
    "data[\"title\"] = data[\"title\"].astype(str)\n",
    "data[\"review\"] = data[\"review\"].astype(str)\n",
    "data[\"rating\"] = data[\"rating\"].replace(\"默认评分\",0).astype(float)\n",
    "data[\"upvote\"] = data[\"upvote\"].replace(\"默认赞成\",0).astype(int)\n",
    "data[\"downvote\"] = data[\"downvote\"].replace(\"默认反对\",0).astype(int)\n",
    "data[\"rating\"] = data[\"rating\"]/10\n",
    "\n",
    "data.info()"
   ]
  },
  {
   "cell_type": "code",
   "execution_count": 6,
   "metadata": {},
   "outputs": [
    {
     "data": {
      "text/html": [
       "<div>\n",
       "<style scoped>\n",
       "    .dataframe tbody tr th:only-of-type {\n",
       "        vertical-align: middle;\n",
       "    }\n",
       "\n",
       "    .dataframe tbody tr th {\n",
       "        vertical-align: top;\n",
       "    }\n",
       "\n",
       "    .dataframe thead th {\n",
       "        text-align: right;\n",
       "    }\n",
       "</style>\n",
       "<table border=\"1\" class=\"dataframe\">\n",
       "  <thead>\n",
       "    <tr style=\"text-align: left;\">\n",
       "      <th></th>\n",
       "      <th>rating</th>\n",
       "      <th>upvote</th>\n",
       "      <th>downvote</th>\n",
       "    </tr>\n",
       "  </thead>\n",
       "  <tbody>\n",
       "    <tr>\n",
       "      <th>count</th>\n",
       "      <td>2811.000000</td>\n",
       "      <td>2811.000000</td>\n",
       "      <td>2811.000000</td>\n",
       "    </tr>\n",
       "    <tr>\n",
       "      <th>mean</th>\n",
       "      <td>3.501957</td>\n",
       "      <td>9.788332</td>\n",
       "      <td>2.883671</td>\n",
       "    </tr>\n",
       "    <tr>\n",
       "      <th>std</th>\n",
       "      <td>1.695371</td>\n",
       "      <td>113.395803</td>\n",
       "      <td>46.641302</td>\n",
       "    </tr>\n",
       "    <tr>\n",
       "      <th>min</th>\n",
       "      <td>0.000000</td>\n",
       "      <td>0.000000</td>\n",
       "      <td>0.000000</td>\n",
       "    </tr>\n",
       "    <tr>\n",
       "      <th>25%</th>\n",
       "      <td>3.000000</td>\n",
       "      <td>0.000000</td>\n",
       "      <td>0.000000</td>\n",
       "    </tr>\n",
       "    <tr>\n",
       "      <th>50%</th>\n",
       "      <td>4.000000</td>\n",
       "      <td>1.000000</td>\n",
       "      <td>0.000000</td>\n",
       "    </tr>\n",
       "    <tr>\n",
       "      <th>75%</th>\n",
       "      <td>5.000000</td>\n",
       "      <td>2.000000</td>\n",
       "      <td>0.000000</td>\n",
       "    </tr>\n",
       "    <tr>\n",
       "      <th>max</th>\n",
       "      <td>5.000000</td>\n",
       "      <td>3263.000000</td>\n",
       "      <td>1821.000000</td>\n",
       "    </tr>\n",
       "  </tbody>\n",
       "</table>\n",
       "</div>"
      ],
      "text/plain": [
       "       rating       upvote       downvote   \n",
       "count  2811.000000  2811.000000  2811.000000\n",
       "mean      3.501957     9.788332     2.883671\n",
       "std       1.695371   113.395803    46.641302\n",
       "min       0.000000     0.000000     0.000000\n",
       "25%       3.000000     0.000000     0.000000\n",
       "50%       4.000000     1.000000     0.000000\n",
       "75%       5.000000     2.000000     0.000000\n",
       "max       5.000000  3263.000000  1821.000000"
      ]
     },
     "execution_count": 6,
     "metadata": {},
     "output_type": "execute_result"
    }
   ],
   "source": [
    "data.describe()"
   ]
  },
  {
   "cell_type": "markdown",
   "metadata": {},
   "source": [
    "数据清洗"
   ]
  },
  {
   "cell_type": "code",
   "execution_count": 7,
   "metadata": {},
   "outputs": [
    {
     "data": {
      "text/plain": [
       "['打开天窗说亮话',\n",
       " '到目前为止',\n",
       " '赶早不赶晚',\n",
       " '常言说得好',\n",
       " '何乐而不为',\n",
       " '毫无保留地',\n",
       " '由此可见',\n",
       " '这就是说',\n",
       " '这么点儿',\n",
       " '综上所述']"
      ]
     },
     "execution_count": 7,
     "metadata": {},
     "output_type": "execute_result"
    }
   ],
   "source": [
    "stopwords = [line.strip() for line in open('stopwords.txt', 'r', encoding='utf-8').readlines()]\n",
    "stopwords[:10]"
   ]
  },
  {
   "cell_type": "code",
   "execution_count": 8,
   "metadata": {},
   "outputs": [
    {
     "name": "stderr",
     "output_type": "stream",
     "text": [
      "Building prefix dict from the default dictionary ...\n",
      "Loading model from cache C:\\Users\\admin\\AppData\\Local\\Temp\\jieba.cache\n",
      "Loading model cost 0.419 seconds.\n",
      "Prefix dict has been built successfully.\n"
     ]
    },
    {
     "data": {
      "text/html": [
       "<div>\n",
       "<style scoped>\n",
       "    .dataframe tbody tr th:only-of-type {\n",
       "        vertical-align: middle;\n",
       "    }\n",
       "\n",
       "    .dataframe tbody tr th {\n",
       "        vertical-align: top;\n",
       "    }\n",
       "\n",
       "    .dataframe thead th {\n",
       "        text-align: right;\n",
       "    }\n",
       "</style>\n",
       "<table border=\"1\" class=\"dataframe\">\n",
       "  <thead>\n",
       "    <tr style=\"text-align: left;\">\n",
       "      <th></th>\n",
       "      <th>title</th>\n",
       "      <th>rating</th>\n",
       "      <th>upvote</th>\n",
       "      <th>downvote</th>\n",
       "      <th>review</th>\n",
       "      <th>seg_review</th>\n",
       "    </tr>\n",
       "  </thead>\n",
       "  <tbody>\n",
       "    <tr>\n",
       "      <th>0</th>\n",
       "      <td>把仙翁塑造成世俗意义上的恶人，这个电影立意就落入俗套了</td>\n",
       "      <td>2.0</td>\n",
       "      <td>3123</td>\n",
       "      <td>1161</td>\n",
       "      <td>欢迎讨论，骂人的都反弹，看到的会删。\\r\\n\\r\\n\\r\\n电影里十二金仙说不能师出无名去剿...</td>\n",
       "      <td>讨论 骂人 反弹 删 电影 里 十二 金仙 说 师出无名 剿灭 龙族 太乙 真人 仙翁 说 ...</td>\n",
       "    </tr>\n",
       "    <tr>\n",
       "      <th>1</th>\n",
       "      <td>哪吒反叛的力量：从弑父到弑神</td>\n",
       "      <td>5.0</td>\n",
       "      <td>1885</td>\n",
       "      <td>226</td>\n",
       "      <td>当银幕上哪吒在天元鼎内完成涅槃浴火重生时，相信所有人都会赞同，这绝不是一部普通的续作。时隔六...</td>\n",
       "      <td>银幕 哪吒 天元 鼎内 涅槃 浴火重生 时 所有人 赞同 一部 续作 时隔 六年 导演 饺子...</td>\n",
       "    </tr>\n",
       "    <tr>\n",
       "      <th>2</th>\n",
       "      <td>看过一天后，从三星降到两星，喜欢这部电影的这么多，不差我陈塘关百姓一个</td>\n",
       "      <td>2.0</td>\n",
       "      <td>3263</td>\n",
       "      <td>1821</td>\n",
       "      <td>这根本就是一部不该存在的续集，不过魔童降世实在太太太成功了，能怎么办呢。\\r\\n结果就是，哪...</td>\n",
       "      <td>根本就是 一部 不该 续集 魔童 降世 实在 太太 太 成功 哪吒 第二部 主线 故事 没 ...</td>\n",
       "    </tr>\n",
       "    <tr>\n",
       "      <th>3</th>\n",
       "      <td>唯余叹息——哪吒2的成功是快餐流量的狂欢，也是对电影艺术的侮辱</td>\n",
       "      <td>2.0</td>\n",
       "      <td>2362</td>\n",
       "      <td>829</td>\n",
       "      <td>哪吒2开分8.5，大感震惊，似乎与我观影感受有所出入，特来交流一番。（加更：墙裂恳请认同的点...</td>\n",
       "      <td>哪吒 开分 8.5 大感 震惊 观影 感受 出入 特 交流 加 更 墙裂 恳请 认同 点赞 ...</td>\n",
       "    </tr>\n",
       "    <tr>\n",
       "      <th>4</th>\n",
       "      <td>合格的商业片，但仍想提出质疑</td>\n",
       "      <td>3.0</td>\n",
       "      <td>1093</td>\n",
       "      <td>263</td>\n",
       "      <td>作为贺岁档电影，哪吒无疑是一部合格的商业片。故事节奏快，至少看着不会无聊，围绕亲情...</td>\n",
       "      <td>贺岁 档 电影 哪吒 无疑 一部 合格 商业片 故事 节奏快 至少 看着 无聊 围绕 亲情 ...</td>\n",
       "    </tr>\n",
       "  </tbody>\n",
       "</table>\n",
       "</div>"
      ],
      "text/plain": [
       "  title                                 rating  upvote  downvote  \\\n",
       "0          把仙翁塑造成世俗意义上的恶人，这个电影立意就落入俗套了  2.0     3123    1161       \n",
       "1                       哪吒反叛的力量：从弑父到弑神  5.0     1885     226       \n",
       "2  看过一天后，从三星降到两星，喜欢这部电影的这么多，不差我陈塘关百姓一个  2.0     3263    1821       \n",
       "3      唯余叹息——哪吒2的成功是快餐流量的狂欢，也是对电影艺术的侮辱  2.0     2362     829       \n",
       "4                       合格的商业片，但仍想提出质疑  3.0     1093     263       \n",
       "\n",
       "  review                                              \\\n",
       "0  欢迎讨论，骂人的都反弹，看到的会删。\\r\\n\\r\\n\\r\\n电影里十二金仙说不能师出无名去剿...   \n",
       "1  当银幕上哪吒在天元鼎内完成涅槃浴火重生时，相信所有人都会赞同，这绝不是一部普通的续作。时隔六...   \n",
       "2  这根本就是一部不该存在的续集，不过魔童降世实在太太太成功了，能怎么办呢。\\r\\n结果就是，哪...   \n",
       "3  哪吒2开分8.5，大感震惊，似乎与我观影感受有所出入，特来交流一番。（加更：墙裂恳请认同的点...   \n",
       "4       作为贺岁档电影，哪吒无疑是一部合格的商业片。故事节奏快，至少看着不会无聊，围绕亲情...   \n",
       "\n",
       "  seg_review                                          \n",
       "0  讨论 骂人 反弹 删 电影 里 十二 金仙 说 师出无名 剿灭 龙族 太乙 真人 仙翁 说 ...  \n",
       "1  银幕 哪吒 天元 鼎内 涅槃 浴火重生 时 所有人 赞同 一部 续作 时隔 六年 导演 饺子...  \n",
       "2  根本就是 一部 不该 续集 魔童 降世 实在 太太 太 成功 哪吒 第二部 主线 故事 没 ...  \n",
       "3  哪吒 开分 8.5 大感 震惊 观影 感受 出入 特 交流 加 更 墙裂 恳请 认同 点赞 ...  \n",
       "4  贺岁 档 电影 哪吒 无疑 一部 合格 商业片 故事 节奏快 至少 看着 无聊 围绕 亲情 ...  "
      ]
     },
     "execution_count": 8,
     "metadata": {},
     "output_type": "execute_result"
    }
   ],
   "source": [
    "data['seg_review'] = data['review'].apply(lambda x: clean_text(x, stopwords))\n",
    "data.head()"
   ]
  },
  {
   "cell_type": "code",
   "execution_count": 28,
   "metadata": {},
   "outputs": [
    {
     "data": {
      "image/png": "[encoded data removed]",
      "text/plain": [
       "<Figure size 800x500 with 1 Axes>"
      ]
     },
     "metadata": {},
     "output_type": "display_data"
    }
   ],
   "source": [
    "# rating分布特征 仅保留 rating > 0 的数据\n",
    "ratings = data[\"rating\"].dropna()\n",
    "ratings = ratings[ratings > 0]\n",
    "\n",
    "plt.figure(figsize=(8, 5))\n",
    "sns.countplot(x=ratings, order=sorted(ratings.unique()))\n",
    "plt.xlabel(\"评分\")\n",
    "plt.ylabel(\"数量\")\n",
    "plt.title(\"评分统计\")\n",
    "plt.show()\n"
   ]
  },
  {
   "cell_type": "code",
   "execution_count": 30,
   "metadata": {},
   "outputs": [
    {
     "data": {
      "image/png": "[encoded data removed]",
      "text/plain": [
       "<Figure size 800x500 with 1 Axes>"
      ]
     },
     "metadata": {},
     "output_type": "display_data"
    }
   ],
   "source": [
    "# 好评率与评分的关系(upvote>100 downvote>100)\n",
    "\n",
    "# 确保 rating 不是 NaN，并且大于 0\n",
    "filtered_data = data.dropna(subset=[\"rating\"])\n",
    "filtered_data = filtered_data[filtered_data[\"rating\"] > 0]\n",
    "\n",
    "# 计算好评率\n",
    "filtered_data[\"approval_rate\"] = filtered_data[\"upvote\"] / (filtered_data[\"upvote\"] + filtered_data[\"downvote\"])\n",
    "\n",
    "# 筛选 upvotes > 100 且 downvotes > 100 的数据\n",
    "filtered_data = filtered_data[(filtered_data[\"upvote\"] > 100) & (filtered_data[\"downvote\"] > 100)]\n",
    "\n",
    "# 绘制评分与好评率的关系\n",
    "plt.figure(figsize=(8, 5))\n",
    "sns.scatterplot(x=filtered_data[\"rating\"], y=filtered_data[\"approval_rate\"], alpha=0.7)\n",
    "plt.xlabel(\"Rating\")\n",
    "plt.ylabel(\"Approval Rate\")\n",
    "plt.title(\"Approval Rate vs Rating (upvotes > 100 & downvotes > 100)\")\n",
    "plt.ylim(0, 1)  # 好评率范围在 0 到 1 之间\n",
    "plt.show()"
   ]
  }
 ],
 "metadata": {
  "kernelspec": {
   "display_name": "crawl",
   "language": "python",
   "name": "python3"
  },
  "language_info": {
   "codemirror_mode": {
    "name": "ipython",
    "version": 3
   },
   "file_extension": ".py",
   "mimetype": "text/x-python",
   "name": "python",
   "nbconvert_exporter": "python",
   "pygments_lexer": "ipython3",
   "version": "3.11.11"
  }
 },
 "nbformat": 4,
 "nbformat_minor": 2
}
