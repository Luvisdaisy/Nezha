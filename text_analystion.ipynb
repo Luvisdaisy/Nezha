{
 "cells": [
  {
   "cell_type": "markdown",
   "metadata": {},
   "source": [
    "导入库"
   ]
  },
  {
   "cell_type": "code",
   "execution_count": 9,
   "metadata": {},
   "outputs": [],
   "source": [
    "import pandas as pd\n",
    "import numpy as np\n",
    "import matplotlib.pyplot as plt\n",
    "import seaborn as sns\n",
    "import csv\n",
    "import re\n"
   ]
  },
  {
   "cell_type": "code",
   "execution_count": 10,
   "metadata": {},
   "outputs": [],
   "source": [
    "def clean_text(text: str, stopwords: list) -> str:\n",
    "    \"\"\"\n",
    "    清洗文本，去除停用词、空行、多余空格和 URL。\n",
    "    \n",
    "    :param text: 需要清洗的文本\n",
    "    :param stopwords: 停用词列表\n",
    "    :return: 清洗后的文本\n",
    "    \"\"\"\n",
    "    # 去除URL\n",
    "    text = re.sub(r'http[s]?://\\S+', '', text)\n",
    "    \n",
    "    # 去除多余空格\n",
    "    text = re.sub(r'\\s+', ' ', text).strip()\n",
    "    \n",
    "    # 按行分割，去除空行\n",
    "    lines = [line.strip() for line in text.split('\\n') if line.strip()]\n",
    "    \n",
    "    # 去除停用词\n",
    "    clean_lines = []\n",
    "    for line in lines:\n",
    "        words = line.split()\n",
    "        filtered_words = [word for word in words if word not in stopwords]\n",
    "        clean_lines.append(' '.join(filtered_words))\n",
    "    \n",
    "    return '\\n'.join(clean_lines)"
   ]
  },
  {
   "cell_type": "markdown",
   "metadata": {},
   "source": [
    "导入数据"
   ]
  },
  {
   "cell_type": "code",
   "execution_count": 23,
   "metadata": {},
   "outputs": [
    {
     "data": {
      "text/html": [
       "<div>\n",
       "<style scoped>\n",
       "    .dataframe tbody tr th:only-of-type {\n",
       "        vertical-align: middle;\n",
       "    }\n",
       "\n",
       "    .dataframe tbody tr th {\n",
       "        vertical-align: top;\n",
       "    }\n",
       "\n",
       "    .dataframe thead th {\n",
       "        text-align: right;\n",
       "    }\n",
       "</style>\n",
       "<table border=\"1\" class=\"dataframe\">\n",
       "  <thead>\n",
       "    <tr style=\"text-align: right;\">\n",
       "      <th></th>\n",
       "      <th>title</th>\n",
       "      <th>rating</th>\n",
       "      <th>upvote</th>\n",
       "      <th>downvote</th>\n",
       "      <th>review</th>\n",
       "    </tr>\n",
       "  </thead>\n",
       "  <tbody>\n",
       "    <tr>\n",
       "      <th>0</th>\n",
       "      <td>把仙翁塑造成世俗意义上的恶人，这个电影立意就落入俗套了</td>\n",
       "      <td>20</td>\n",
       "      <td>3123</td>\n",
       "      <td>1161</td>\n",
       "      <td>欢迎讨论，骂人的都反弹，看到的会删。电影里十二金仙说不能师出无名去剿灭龙族，太乙真人对仙翁说...</td>\n",
       "    </tr>\n",
       "    <tr>\n",
       "      <th>1</th>\n",
       "      <td>哪吒反叛的力量：从弑父到弑神</td>\n",
       "      <td>50</td>\n",
       "      <td>1885</td>\n",
       "      <td>226</td>\n",
       "      <td>当银幕上哪吒在天元鼎内完成涅槃浴火重生时，相信所有人都会赞同，这绝不是一部普通的续作。时隔六...</td>\n",
       "    </tr>\n",
       "    <tr>\n",
       "      <th>2</th>\n",
       "      <td>看过一天后，从三星降到两星，喜欢这部电影的这么多，不差我陈塘关百姓一个</td>\n",
       "      <td>20</td>\n",
       "      <td>3263</td>\n",
       "      <td>1821</td>\n",
       "      <td>这根本就是一部不该存在的续集，不过魔童降世实在太太太成功了，能怎么办呢。结果就是，哪吒第二部...</td>\n",
       "    </tr>\n",
       "    <tr>\n",
       "      <th>3</th>\n",
       "      <td>唯余叹息——哪吒2的成功是快餐流量的狂欢，也是对电影艺术的侮辱</td>\n",
       "      <td>20</td>\n",
       "      <td>2362</td>\n",
       "      <td>829</td>\n",
       "      <td>哪吒2开分8.5，大感震惊，似乎与我观影感受有所出入，特来交流一番。（加更：墙裂恳请认同的点...</td>\n",
       "    </tr>\n",
       "    <tr>\n",
       "      <th>4</th>\n",
       "      <td>合格的商业片，但仍想提出质疑</td>\n",
       "      <td>30</td>\n",
       "      <td>1093</td>\n",
       "      <td>263</td>\n",
       "      <td>作为贺岁档电影，哪吒无疑是一部合格的商业片。故事节奏快，至少看着不会无聊，围绕亲情...</td>\n",
       "    </tr>\n",
       "  </tbody>\n",
       "</table>\n",
       "</div>"
      ],
      "text/plain": [
       "                                 title  rating  upvote  downvote  \\\n",
       "0          把仙翁塑造成世俗意义上的恶人，这个电影立意就落入俗套了      20    3123      1161   \n",
       "1                       哪吒反叛的力量：从弑父到弑神      50    1885       226   \n",
       "2  看过一天后，从三星降到两星，喜欢这部电影的这么多，不差我陈塘关百姓一个      20    3263      1821   \n",
       "3      唯余叹息——哪吒2的成功是快餐流量的狂欢，也是对电影艺术的侮辱      20    2362       829   \n",
       "4                       合格的商业片，但仍想提出质疑      30    1093       263   \n",
       "\n",
       "                                              review  \n",
       "0  欢迎讨论，骂人的都反弹，看到的会删。电影里十二金仙说不能师出无名去剿灭龙族，太乙真人对仙翁说...  \n",
       "1  当银幕上哪吒在天元鼎内完成涅槃浴火重生时，相信所有人都会赞同，这绝不是一部普通的续作。时隔六...  \n",
       "2  这根本就是一部不该存在的续集，不过魔童降世实在太太太成功了，能怎么办呢。结果就是，哪吒第二部...  \n",
       "3  哪吒2开分8.5，大感震惊，似乎与我观影感受有所出入，特来交流一番。（加更：墙裂恳请认同的点...  \n",
       "4       作为贺岁档电影，哪吒无疑是一部合格的商业片。故事节奏快，至少看着不会无聊，围绕亲情...  "
      ]
     },
     "execution_count": 23,
     "metadata": {},
     "output_type": "execute_result"
    }
   ],
   "source": [
    "data = pd.read_csv(\"douban_reviews.csv\", encoding='utf-8')\n",
    "data[\"review\"] = data[\"review\"].str.replace(\"\\n\", \"\")\n",
    "data.head()"
   ]
  },
  {
   "cell_type": "markdown",
   "metadata": {},
   "source": [
    "数据清洗"
   ]
  },
  {
   "cell_type": "code",
   "execution_count": 24,
   "metadata": {},
   "outputs": [
    {
     "data": {
      "text/plain": [
       "['打开天窗说亮话',\n",
       " '到目前为止',\n",
       " '赶早不赶晚',\n",
       " '常言说得好',\n",
       " '何乐而不为',\n",
       " '毫无保留地',\n",
       " '由此可见',\n",
       " '这就是说',\n",
       " '这么点儿',\n",
       " '综上所述']"
      ]
     },
     "execution_count": 24,
     "metadata": {},
     "output_type": "execute_result"
    }
   ],
   "source": [
    "stopwords = [line.strip() for line in open('stopwords.txt', 'r', encoding='utf-8').readlines()]\n",
    "stopwords[:10]"
   ]
  },
  {
   "cell_type": "code",
   "execution_count": 27,
   "metadata": {},
   "outputs": [
    {
     "data": {
      "text/plain": [
       "0    欢迎讨论，骂人的都反弹，看到的会删。电影里十二金仙说不能师出无名去剿灭龙族，太乙真人对仙翁说...\n",
       "1    当银幕上哪吒在天元鼎内完成涅槃浴火重生时，相信所有人都会赞同，这绝不是一部普通的续作。时隔六...\n",
       "2    这根本就是一部不该存在的续集，不过魔童降世实在太太太成功了，能怎么办呢。结果就是，哪吒第二部...\n",
       "3    哪吒2开分8.5，大感震惊，似乎与我观影感受有所出入，特来交流一番。（加更：墙裂恳请认同的点...\n",
       "4    作为贺岁档电影，哪吒无疑是一部合格的商业片。故事节奏快，至少看着不会无聊，围绕亲情线展开，也...\n",
       "Name: review, dtype: object"
      ]
     },
     "execution_count": 27,
     "metadata": {},
     "output_type": "execute_result"
    }
   ],
   "source": [
    "data['review'] = data['review'].apply(lambda x: clean_text(x, stopwords))\n",
    "data['review'].head()"
   ]
  }
 ],
 "metadata": {
  "kernelspec": {
   "display_name": "crawl",
   "language": "python",
   "name": "python3"
  },
  "language_info": {
   "codemirror_mode": {
    "name": "ipython",
    "version": 3
   },
   "file_extension": ".py",
   "mimetype": "text/x-python",
   "name": "python",
   "nbconvert_exporter": "python",
   "pygments_lexer": "ipython3",
   "version": "3.11.11"
  }
 },
 "nbformat": 4,
 "nbformat_minor": 2
}
